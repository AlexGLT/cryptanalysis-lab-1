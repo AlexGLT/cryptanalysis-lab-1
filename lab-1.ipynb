{
 "cells": [
  {
   "cell_type": "code",
   "execution_count": 9,
   "metadata": {},
   "outputs": [],
   "source": [
    "import numpy as np\n",
    "import pandas as pd\n",
    "import pathlib\n",
    "import os\n",
    "\n",
    "\n",
    "df_prob_12 = pd.read_csv('vars\\\\prob_12.csv', header=None)\n",
    "df_table_12 = pd.read_csv('vars\\\\table_12.csv', header=None)\n",
    "\n",
    "df_prob_6 = pd.read_csv('vars\\\\prob_06.csv', header=None)\n",
    "df_table_6 = pd.read_csv('vars\\\\table_06.csv', header=None)"
   ]
  }
 ],
 "metadata": {
  "kernelspec": {
   "display_name": "Python 3.10.7 64-bit",
   "language": "python",
   "name": "python3"
  },
  "language_info": {
   "codemirror_mode": {
    "name": "ipython",
    "version": 3
   },
   "file_extension": ".py",
   "mimetype": "text/x-python",
   "name": "python",
   "nbconvert_exporter": "python",
   "pygments_lexer": "ipython3",
   "version": "3.10.7"
  },
  "orig_nbformat": 4,
  "vscode": {
   "interpreter": {
    "hash": "369f2c481f4da34e4445cda3fffd2e751bd1c4d706f27375911949ba6bb62e1c"
   }
  }
 },
 "nbformat": 4,
 "nbformat_minor": 2
}
