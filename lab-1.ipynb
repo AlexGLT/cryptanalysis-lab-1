{
 "cells": [
  {
   "cell_type": "code",
   "execution_count": 252,
   "metadata": {},
   "outputs": [],
   "source": [
    "import numpy as np\n",
    "import pandas as pd\n",
    "import pathlib\n",
    "import os\n",
    "from decimal import *\n",
    "getcontext().prec = 5\n",
    "\n",
    "df_probabilities = {\n",
    "\t6: pd.read_csv('vars\\\\prob_06.csv', header=None),\n",
    "\t12: pd.read_csv('vars\\\\prob_12.csv', header=None)\n",
    "}\n",
    "\n",
    "df_tables = {\n",
    "\t6: pd.read_csv('vars\\\\table_06.csv', header=None),\n",
    "\t12: pd.read_csv('vars\\\\table_12.csv', header=None)\n",
    "}\n",
    "\n",
    "lengths = {\n",
    "\t6: {\n",
    "\t\t'text_count': len(df_tables[6].columns),\n",
    "\t\t'key_count': len(df_tables[6])\n",
    "\t},\n",
    "\t12: {\n",
    "\t\t'text_count': len(df_tables[12].columns),\n",
    "\t\t'key_count': len(df_tables[12])\n",
    "\t}\n",
    "}\n"
   ]
  },
  {
   "cell_type": "code",
   "execution_count": 253,
   "metadata": {},
   "outputs": [],
   "source": [
    "def get_cipher_text_unconditional_probability(variant, cipher_text):\n",
    "\tdf_table = df_tables[variant]\n",
    "\tdf_prob = df_probabilities[variant]\n",
    "\t\n",
    "\tprobability = 0.0\n",
    "\n",
    "\tfor plain_text_index in range(lengths[variant]['text_count']):\n",
    "\t\tfor key_text_index in range(lengths[variant]['key_count']):\n",
    "\t\t\tif (df_table[plain_text_index][key_text_index] == cipher_text):\n",
    "\t\t\t\tplain_text_probability = df_prob[plain_text_index][0]\n",
    "\t\t\t\tkey_probability = df_prob[key_text_index][1]\n",
    "\n",
    "\t\t\t\tprobability += plain_text_probability * key_probability\n",
    "\t\n",
    "\treturn probability\n",
    "\n",
    "df_cipher_texts_unconditional_prob = {\n",
    "\t6: np.array([get_cipher_text_unconditional_probability(6, i) for i in range(lengths[6]['text_count'])]),\n",
    "\t12: np.array([get_cipher_text_unconditional_probability(12, i) for i in range(lengths[12]['text_count'])])\n",
    "}\n"
   ]
  },
  {
   "cell_type": "code",
   "execution_count": 254,
   "metadata": {},
   "outputs": [],
   "source": [
    "def cipher_and_plain_texts_common_probability(variant, cipher_text, plain_text):\n",
    "\tdf_table = df_tables[variant]\n",
    "\tdf_prob = df_probabilities[variant]\n",
    "\t\n",
    "\tprobability = 0.0\n",
    "\n",
    "\tfor key_index in range(lengths[variant]['key_count']):\n",
    "\t\tif (df_table[plain_text][key_index] == cipher_text):\n",
    "\t\t\tplain_text_probability = df_prob[plain_text][0]\n",
    "\t\t\tkey_probability = df_prob[key_index][1]\n",
    "\n",
    "\t\t\tprobability += plain_text_probability * key_probability\n",
    "\t\n",
    "\treturn probability\n",
    "\n",
    "df_cipher_texts_common_prob = {\n",
    "\t6: np.array([[cipher_and_plain_texts_common_probability(6, i, j) for j in range(lengths[6]['text_count'])] for i in range(lengths[6]['text_count'])]),\n",
    "\t12: np.array([[cipher_and_plain_texts_common_probability(12, i, j) for j in range(lengths[12]['text_count'])] for i in range(lengths[12]['text_count'])])\n",
    "}\n"
   ]
  },
  {
   "cell_type": "code",
   "execution_count": 255,
   "metadata": {},
   "outputs": [],
   "source": [
    "def cipher_and_plain_texts_conditional_probability(variant):\n",
    "    return np.array([\n",
    "\t\t\t[df_cipher_texts_common_prob[variant][i][j] / df_cipher_texts_unconditional_prob[variant][i] for j in range(lengths[6]['text_count'])\n",
    "\t\t] for i in range(lengths[6]['text_count'])])\n",
    "\n",
    "df_cipher_texts_conditional_prob = {\n",
    "\t6: cipher_and_plain_texts_conditional_probability(6),\n",
    "\t12: cipher_and_plain_texts_conditional_probability(12)\n",
    "}\n"
   ]
  },
  {
   "cell_type": "code",
   "execution_count": 256,
   "metadata": {},
   "outputs": [],
   "source": [
    "def get_bayes_decision_function(variant, cipher_text):\n",
    "\tcurrent_cipher_text_probabilities = df_cipher_texts_conditional_prob[variant][cipher_text]\n",
    "\t\n",
    "\tmax_probability = max(current_cipher_text_probabilities)\n",
    "\n",
    "\treturn [plain_text for (plain_text, plain_text_prob) in zip(range(lengths[variant]['text_count']), current_cipher_text_probabilities) if plain_text_prob == max_probability]\n",
    "\n",
    "df_bayes_decision_function = {\n",
    "\t6: [get_bayes_decision_function(6, i) for i in range(lengths[6]['text_count'])],\n",
    "\t12: [get_bayes_decision_function(12, i) for i in range(lengths[6]['text_count'])]\n",
    "}"
   ]
  },
  {
   "cell_type": "code",
   "execution_count": null,
   "metadata": {},
   "outputs": [],
   "source": []
  }
 ],
 "metadata": {
  "kernelspec": {
   "display_name": "Python 3.10.7 64-bit",
   "language": "python",
   "name": "python3"
  },
  "language_info": {
   "codemirror_mode": {
    "name": "ipython",
    "version": 3
   },
   "file_extension": ".py",
   "mimetype": "text/x-python",
   "name": "python",
   "nbconvert_exporter": "python",
   "pygments_lexer": "ipython3",
   "version": "3.10.7"
  },
  "orig_nbformat": 4,
  "vscode": {
   "interpreter": {
    "hash": "369f2c481f4da34e4445cda3fffd2e751bd1c4d706f27375911949ba6bb62e1c"
   }
  }
 },
 "nbformat": 4,
 "nbformat_minor": 2
}
