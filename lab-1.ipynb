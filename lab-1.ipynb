{
 "cells": [
  {
   "cell_type": "code",
   "execution_count": 157,
   "metadata": {},
   "outputs": [],
   "source": [
    "import numpy as np\n",
    "import pandas as pd\n",
    "import pathlib\n",
    "import os\n",
    "from decimal import *\n",
    "getcontext().prec = 5\n",
    "\n",
    "df_probabilities = {\n",
    "\t6: pd.read_csv('vars\\\\prob_06.csv', header=None),\n",
    "\t12: pd.read_csv('vars\\\\prob_12.csv', header=None)\n",
    "}\n",
    "\n",
    "df_tables = {\n",
    "\t6: pd.read_csv('vars\\\\table_06.csv', header=None),\n",
    "\t12: pd.read_csv('vars\\\\table_12.csv', header=None)\n",
    "}\n",
    "\n",
    "lengths = {\n",
    "\t6: {\n",
    "\t\t'text_count': len(df_tables[6].columns),\n",
    "\t\t'key_count': len(df_tables[6])\n",
    "\t},\n",
    "\t12: {\n",
    "\t\t'text_count': len(df_tables[12].columns),\n",
    "\t\t'key_count': len(df_tables[12])\n",
    "\t}\n",
    "}\n"
   ]
  },
  {
   "cell_type": "code",
   "execution_count": 158,
   "metadata": {},
   "outputs": [],
   "source": [
    "def get_cipher_text_unconditional_probability(variant, cipher_text):\n",
    "\tdf_table = df_tables[variant]\n",
    "\tdf_prob = df_probabilities[variant]\n",
    "\t\n",
    "\tprobability = 0.0\n",
    "\n",
    "\tfor plain_text_index in range(lengths[variant]['text_count']):\n",
    "\t\tfor key_text_index in range(lengths[variant]['key_count']):\n",
    "\t\t\tif (df_table[plain_text_index][key_text_index] == cipher_text):\n",
    "\t\t\t\tplain_text_probability = df_prob[plain_text_index][0]\n",
    "\t\t\t\tkey_probability = df_prob[key_text_index][1]\n",
    "\n",
    "\t\t\t\tprobability += plain_text_probability * key_probability\n",
    "\t\n",
    "\treturn probability\n",
    "\n",
    "df_cipher_texts_unconditional_prob = {\n",
    "\t6: np.array([get_cipher_text_unconditional_probability(6, i) for i in range(lengths[6]['text_count'])]),\n",
    "\t12: np.array([get_cipher_text_unconditional_probability(12, i) for i in range(lengths[12]['text_count'])])\n",
    "}\n"
   ]
  },
  {
   "cell_type": "code",
   "execution_count": 159,
   "metadata": {},
   "outputs": [],
   "source": [
    "def cipher_and_plain_texts_common_probability(variant, cipher_text, plain_text):\n",
    "\tdf_table = df_tables[variant]\n",
    "\tdf_prob = df_probabilities[variant]\n",
    "\t\n",
    "\tprobability = 0.0\n",
    "\n",
    "\tfor key_index in range(lengths[variant]['key_count']):\n",
    "\t\tif (df_table[plain_text][key_index] == cipher_text):\n",
    "\t\t\tplain_text_probability = df_prob[plain_text][0]\n",
    "\t\t\tkey_probability = df_prob[key_index][1]\n",
    "\n",
    "\t\t\tprobability += plain_text_probability * key_probability\n",
    "\t\n",
    "\treturn probability\n",
    "\n",
    "df_cipher_texts_common_prob = {\n",
    "\t6: np.array([[cipher_and_plain_texts_common_probability(6, i, j) for j in range(lengths[6]['text_count'])] for i in range(lengths[6]['text_count'])]),\n",
    "\t12: np.array([[cipher_and_plain_texts_common_probability(12, i, j) for j in range(lengths[12]['text_count'])] for i in range(lengths[12]['text_count'])])\n",
    "}\n",
    "\n",
    "# sum([pd.DataFrame(df_cipher_texts_common_prob[6][i]).sum() for i in range(20)])\n"
   ]
  },
  {
   "cell_type": "code",
   "execution_count": 160,
   "metadata": {},
   "outputs": [],
   "source": [
    "def cipher_and_plain_texts_conditional_probability(variant):\n",
    "    return np.array([\n",
    "\t\t\t[df_cipher_texts_common_prob[variant][i][j] / df_cipher_texts_unconditional_prob[variant][i] for j in range(lengths[6]['text_count'])\n",
    "\t\t] for i in range(lengths[6]['text_count'])])\n",
    "\n",
    "df_cipher_texts_conditional_prob = {\n",
    "\t6: cipher_and_plain_texts_conditional_probability(6),\n",
    "\t12: cipher_and_plain_texts_conditional_probability(12)\n",
    "}\n"
   ]
  },
  {
   "cell_type": "code",
   "execution_count": 161,
   "metadata": {},
   "outputs": [],
   "source": [
    "def get_bayes_decision_function(variant, cipher_text):\n",
    "\treturn np.argmax(df_cipher_texts_conditional_prob[variant][cipher_text])\n",
    "\n",
    "df_bayes_decision_function = {\n",
    "\t6: [get_bayes_decision_function(6, i) for i in range(lengths[6]['text_count'])],\n",
    "\t12: [get_bayes_decision_function(12, i) for i in range(lengths[6]['text_count'])]\n",
    "}\n"
   ]
  },
  {
   "cell_type": "code",
   "execution_count": 162,
   "metadata": {},
   "outputs": [
    {
     "data": {
      "text/plain": [
       "0.9249999999999963"
      ]
     },
     "execution_count": 162,
     "metadata": {},
     "output_type": "execute_result"
    }
   ],
   "source": [
    "def get_bayes_loss_function(variant, cipher_text, plain_text):\n",
    "\treturn 0 if df_bayes_decision_function[6][cipher_text] == plain_text else 1\n",
    "\n",
    "def get_average_loss_function(variant):\n",
    "\treturn sum(\n",
    "\t\t[get_bayes_loss_function(variant, i, j) * df_cipher_texts_common_prob[variant][i][j] for j in range(lengths[6]['text_count']) for i in range(lengths[6]['text_count'])]\n",
    "\t)\n",
    "\n",
    "df_bayes_loss_function = {\n",
    "\t6: get_average_loss_function(6),\n",
    "\t12: get_average_loss_function(12)\n",
    "}\n"
   ]
  },
  {
   "cell_type": "code",
   "execution_count": 163,
   "metadata": {},
   "outputs": [],
   "source": [
    "def get_stochastic_decision_function(variant):\n",
    "\tmatrix = np.zeros((lengths[variant]['text_count'], lengths[variant]['text_count']))\n",
    "\n",
    "\tfor i in range(lengths[variant]['text_count']):\n",
    "\t\tcurrent_probability_set = df_cipher_texts_conditional_prob[variant][i]\n",
    "\n",
    "\t\tmax_probability = max(current_probability_set)\n",
    "\t\tmax_probability_entrance = list(current_probability_set).count(max_probability)\n",
    "\n",
    "\t\tfor j in range(lengths[variant]['text_count']):\n",
    "\t\t\tmatrix[i][j] = 1 / max_probability_entrance if current_probability_set[j] == max_probability else 0\n",
    "\n",
    "\treturn matrix\n",
    "\n",
    "df_stochastic_decision_function = {\n",
    "\t6: [get_stochastic_decision_function(6)],\n",
    "\t12: [get_stochastic_decision_function(12)]\n",
    "}\n"
   ]
  }
 ],
 "metadata": {
  "kernelspec": {
   "display_name": "Python 3.10.7 64-bit",
   "language": "python",
   "name": "python3"
  },
  "language_info": {
   "codemirror_mode": {
    "name": "ipython",
    "version": 3
   },
   "file_extension": ".py",
   "mimetype": "text/x-python",
   "name": "python",
   "nbconvert_exporter": "python",
   "pygments_lexer": "ipython3",
   "version": "3.10.7"
  },
  "orig_nbformat": 4,
  "vscode": {
   "interpreter": {
    "hash": "369f2c481f4da34e4445cda3fffd2e751bd1c4d706f27375911949ba6bb62e1c"
   }
  }
 },
 "nbformat": 4,
 "nbformat_minor": 2
}
